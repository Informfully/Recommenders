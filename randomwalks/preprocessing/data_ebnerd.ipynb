{
 "cells": [
  {
   "cell_type": "markdown",
   "metadata": {},
   "source": [
    "# Setting Up the EB-NeRD Notebook for Custom MIND Extension"
   ]
  },
  {
   "cell_type": "code",
   "execution_count": 133,
   "metadata": {},
   "outputs": [],
   "source": [
    "# Follow the instructions here to download the codebase: https://github.com/ebanalyse/ebnerd-benchmark\n",
    "# Register here to download the datasets: https://recsys.eb.dk/#registration\n",
    "# Download: ebnerd_demo, ebnerd_large, ebnerd_small\n",
    "\n",
    "from pathlib import Path\n",
    "import polars as pl\n",
    "\n",
    "from ebrec.utils._polars import slice_join_dataframes\n",
    "from ebrec.utils._behaviors import (\n",
    "    truncate_history\n",
    ")\n",
    "from ebrec.utils._constants import (\n",
    "    DEFAULT_HISTORY_ARTICLE_ID_COL,\n",
    "    DEFAULT_USER_COL\n",
    ")"
   ]
  },
  {
   "cell_type": "markdown",
   "metadata": {},
   "source": [
    "## Specify Path/Folder and Load Parquet Files:"
   ]
  },
  {
   "cell_type": "code",
   "execution_count": 134,
   "metadata": {},
   "outputs": [],
   "source": [
    "# Specify path where you unzipped your dataset (the example here uses the demo dataset)\n",
    "root = \"C:/demo\"\n",
    "PATH = Path(root)\n",
    "\n",
    "# Specify filename of the MIND-format TSV for the export\n",
    "filename = \"behavior.tsv\"\n",
    "\n",
    "# Each dataset has a train and validation folder, specify here which one you pick\n",
    "data_split = \"train\""
   ]
  },
  {
   "cell_type": "code",
   "execution_count": 135,
   "metadata": {},
   "outputs": [],
   "source": [
    "# We only look at behaviors (impressions) and history files, with the goal of combining them to the MIND format\n",
    "df_behaviors = pl.scan_parquet(PATH.joinpath(data_split, \"behaviors.parquet\"))\n",
    "df_history = pl.scan_parquet(PATH.joinpath(data_split, \"history.parquet\"))"
   ]
  },
  {
   "cell_type": "markdown",
   "metadata": {},
   "source": [
    "## Merge Behavior and History Files"
   ]
  },
  {
   "cell_type": "code",
   "execution_count": 136,
   "metadata": {},
   "outputs": [
    {
     "data": {
      "text/html": [
       "<div><style>\n",
       ".dataframe > thead > tr,\n",
       ".dataframe > tbody > tr {\n",
       "  text-align: right;\n",
       "  white-space: pre-wrap;\n",
       "}\n",
       "</style>\n",
       "<small>shape: (5, 18)</small><table border=\"1\" class=\"dataframe\"><thead><tr><th>impression_id</th><th>article_id</th><th>impression_time</th><th>read_time</th><th>scroll_percentage</th><th>device_type</th><th>article_ids_inview</th><th>article_ids_clicked</th><th>user_id</th><th>is_sso_user</th><th>gender</th><th>postcode</th><th>age</th><th>is_subscriber</th><th>session_id</th><th>next_read_time</th><th>next_scroll_percentage</th><th>article_id_fixed</th></tr><tr><td>u32</td><td>i32</td><td>datetime[μs]</td><td>f32</td><td>f32</td><td>i8</td><td>list[i32]</td><td>list[i32]</td><td>u32</td><td>bool</td><td>i8</td><td>i8</td><td>i8</td><td>bool</td><td>u32</td><td>f32</td><td>f32</td><td>list[i32]</td></tr></thead><tbody><tr><td>48401</td><td>null</td><td>2023-05-21 21:06:50</td><td>21.0</td><td>null</td><td>2</td><td>[9774516, 9771051, … 9759966]</td><td>[9759966]</td><td>22779</td><td>false</td><td>null</td><td>null</td><td>null</td><td>false</td><td>21</td><td>16.0</td><td>27.0</td><td>[9738452, 9737521, … 9770541]</td></tr><tr><td>152513</td><td>9778745</td><td>2023-05-24 07:31:26</td><td>30.0</td><td>100.0</td><td>1</td><td>[9778669, 9778736, … 9777397]</td><td>[9778661]</td><td>150224</td><td>false</td><td>null</td><td>null</td><td>null</td><td>false</td><td>298</td><td>2.0</td><td>48.0</td><td>[9740087, 9741986, … 9735909]</td></tr><tr><td>155390</td><td>null</td><td>2023-05-24 07:30:33</td><td>45.0</td><td>null</td><td>1</td><td>[9778369, 9777856, … 9778448]</td><td>[9777856]</td><td>160892</td><td>false</td><td>null</td><td>null</td><td>null</td><td>false</td><td>401</td><td>215.0</td><td>100.0</td><td>[9738557, 9738211, … 9770178]</td></tr><tr><td>214679</td><td>null</td><td>2023-05-23 05:25:40</td><td>33.0</td><td>null</td><td>2</td><td>[9776715, 9776406, … 9776855]</td><td>[9776566]</td><td>1001055</td><td>false</td><td>null</td><td>null</td><td>null</td><td>false</td><td>1357</td><td>40.0</td><td>47.0</td><td>[9738777, 9738663, … 9769981]</td></tr><tr><td>214681</td><td>null</td><td>2023-05-23 05:31:54</td><td>21.0</td><td>null</td><td>2</td><td>[9775202, 9776855, … 9776570]</td><td>[9776553]</td><td>1001055</td><td>false</td><td>null</td><td>null</td><td>null</td><td>false</td><td>1358</td><td>5.0</td><td>49.0</td><td>[9738777, 9738663, … 9769981]</td></tr></tbody></table></div>"
      ],
      "text/plain": [
       "shape: (5, 18)\n",
       "┌───────────┬───────────┬───────────┬───────────┬───┬───────────┬───────────┬───────────┬──────────┐\n",
       "│ impressio ┆ article_i ┆ impressio ┆ read_time ┆ … ┆ session_i ┆ next_read ┆ next_scro ┆ article_ │\n",
       "│ n_id      ┆ d         ┆ n_time    ┆ ---       ┆   ┆ d         ┆ _time     ┆ ll_percen ┆ id_fixed │\n",
       "│ ---       ┆ ---       ┆ ---       ┆ f32       ┆   ┆ ---       ┆ ---       ┆ tage      ┆ ---      │\n",
       "│ u32       ┆ i32       ┆ datetime[ ┆           ┆   ┆ u32       ┆ f32       ┆ ---       ┆ list[i32 │\n",
       "│           ┆           ┆ μs]       ┆           ┆   ┆           ┆           ┆ f32       ┆ ]        │\n",
       "╞═══════════╪═══════════╪═══════════╪═══════════╪═══╪═══════════╪═══════════╪═══════════╪══════════╡\n",
       "│ 48401     ┆ null      ┆ 2023-05-2 ┆ 21.0      ┆ … ┆ 21        ┆ 16.0      ┆ 27.0      ┆ [9738452 │\n",
       "│           ┆           ┆ 1         ┆           ┆   ┆           ┆           ┆           ┆ ,        │\n",
       "│           ┆           ┆ 21:06:50  ┆           ┆   ┆           ┆           ┆           ┆ 9737521, │\n",
       "│           ┆           ┆           ┆           ┆   ┆           ┆           ┆           ┆ …        │\n",
       "│           ┆           ┆           ┆           ┆   ┆           ┆           ┆           ┆ 9770541] │\n",
       "│ 152513    ┆ 9778745   ┆ 2023-05-2 ┆ 30.0      ┆ … ┆ 298       ┆ 2.0       ┆ 48.0      ┆ [9740087 │\n",
       "│           ┆           ┆ 4         ┆           ┆   ┆           ┆           ┆           ┆ ,        │\n",
       "│           ┆           ┆ 07:31:26  ┆           ┆   ┆           ┆           ┆           ┆ 9741986, │\n",
       "│           ┆           ┆           ┆           ┆   ┆           ┆           ┆           ┆ …        │\n",
       "│           ┆           ┆           ┆           ┆   ┆           ┆           ┆           ┆ 9735909] │\n",
       "│ 155390    ┆ null      ┆ 2023-05-2 ┆ 45.0      ┆ … ┆ 401       ┆ 215.0     ┆ 100.0     ┆ [9738557 │\n",
       "│           ┆           ┆ 4         ┆           ┆   ┆           ┆           ┆           ┆ ,        │\n",
       "│           ┆           ┆ 07:30:33  ┆           ┆   ┆           ┆           ┆           ┆ 9738211, │\n",
       "│           ┆           ┆           ┆           ┆   ┆           ┆           ┆           ┆ …        │\n",
       "│           ┆           ┆           ┆           ┆   ┆           ┆           ┆           ┆ 9770178] │\n",
       "│ 214679    ┆ null      ┆ 2023-05-2 ┆ 33.0      ┆ … ┆ 1357      ┆ 40.0      ┆ 47.0      ┆ [9738777 │\n",
       "│           ┆           ┆ 3         ┆           ┆   ┆           ┆           ┆           ┆ ,        │\n",
       "│           ┆           ┆ 05:25:40  ┆           ┆   ┆           ┆           ┆           ┆ 9738663, │\n",
       "│           ┆           ┆           ┆           ┆   ┆           ┆           ┆           ┆ …        │\n",
       "│           ┆           ┆           ┆           ┆   ┆           ┆           ┆           ┆ 9769981] │\n",
       "│ 214681    ┆ null      ┆ 2023-05-2 ┆ 21.0      ┆ … ┆ 1358      ┆ 5.0       ┆ 49.0      ┆ [9738777 │\n",
       "│           ┆           ┆ 3         ┆           ┆   ┆           ┆           ┆           ┆ ,        │\n",
       "│           ┆           ┆ 05:31:54  ┆           ┆   ┆           ┆           ┆           ┆ 9738663, │\n",
       "│           ┆           ┆           ┆           ┆   ┆           ┆           ┆           ┆ …        │\n",
       "│           ┆           ┆           ┆           ┆   ┆           ┆           ┆           ┆ 9769981] │\n",
       "└───────────┴───────────┴───────────┴───────────┴───┴───────────┴───────────┴───────────┴──────────┘"
      ]
     },
     "execution_count": 136,
     "metadata": {},
     "output_type": "execute_result"
    }
   ],
   "source": [
    "# Extract user ID and history columns\n",
    "df_history = df_history.select(DEFAULT_USER_COL, DEFAULT_HISTORY_ARTICLE_ID_COL)\n",
    "\n",
    "\"\"\" # Uncomment to truncate history in case the resulting file gets too big\n",
    "df_history = df_history.select(DEFAULT_USER_COL, DEFAULT_HISTORY_ARTICLE_ID_COL).pipe(\n",
    "    truncate_history,\n",
    "    column=DEFAULT_HISTORY_ARTICLE_ID_COL,\n",
    "    history_size=30,\n",
    "    padding_value=0,\n",
    "    enable_warning=False,\n",
    ") \"\"\"\n",
    "\n",
    "# Join history to behavior file on user ID\n",
    "df = slice_join_dataframes(\n",
    "    df1=df_behaviors.collect(),\n",
    "    df2=df_history.collect(),\n",
    "    on=DEFAULT_USER_COL,\n",
    "    how=\"left\",\n",
    ")\n",
    "\n",
    "df.head(5)"
   ]
  },
  {
   "cell_type": "code",
   "execution_count": 137,
   "metadata": {},
   "outputs": [
    {
     "data": {
      "text/html": [
       "<div><style>\n",
       ".dataframe > thead > tr,\n",
       ".dataframe > tbody > tr {\n",
       "  text-align: right;\n",
       "  white-space: pre-wrap;\n",
       "}\n",
       "</style>\n",
       "<small>shape: (5, 6)</small><table border=\"1\" class=\"dataframe\"><thead><tr><th>id</th><th>user_id</th><th>impression_time</th><th>article_id_fixed</th><th>article_ids_inview</th><th>article_ids_clicked</th></tr><tr><td>u32</td><td>u32</td><td>datetime[μs]</td><td>str</td><td>str</td><td>str</td></tr></thead><tbody><tr><td>1</td><td>22779</td><td>2023-05-21 21:06:50</td><td>&quot;9738452, 97375…</td><td>&quot;9774516, 97710…</td><td>&quot;9759966&quot;</td></tr><tr><td>2</td><td>150224</td><td>2023-05-24 07:31:26</td><td>&quot;9740087, 97419…</td><td>&quot;9778669, 97787…</td><td>&quot;9778661&quot;</td></tr><tr><td>3</td><td>160892</td><td>2023-05-24 07:30:33</td><td>&quot;9738557, 97382…</td><td>&quot;9778369, 97778…</td><td>&quot;9777856&quot;</td></tr><tr><td>4</td><td>1001055</td><td>2023-05-23 05:25:40</td><td>&quot;9738777, 97386…</td><td>&quot;9776715, 97764…</td><td>&quot;9776566&quot;</td></tr><tr><td>5</td><td>1001055</td><td>2023-05-23 05:31:54</td><td>&quot;9738777, 97386…</td><td>&quot;9775202, 97768…</td><td>&quot;9776553&quot;</td></tr></tbody></table></div>"
      ],
      "text/plain": [
       "shape: (5, 6)\n",
       "┌─────┬─────────┬────────────────────┬────────────────────┬────────────────────┬───────────────────┐\n",
       "│ id  ┆ user_id ┆ impression_time    ┆ article_id_fixed   ┆ article_ids_inview ┆ article_ids_click │\n",
       "│ --- ┆ ---     ┆ ---                ┆ ---                ┆ ---                ┆ ed                │\n",
       "│ u32 ┆ u32     ┆ datetime[μs]       ┆ str                ┆ str                ┆ ---               │\n",
       "│     ┆         ┆                    ┆                    ┆                    ┆ str               │\n",
       "╞═════╪═════════╪════════════════════╪════════════════════╪════════════════════╪═══════════════════╡\n",
       "│ 1   ┆ 22779   ┆ 2023-05-21         ┆ 9738452, 9737521,  ┆ 9774516, 9771051,  ┆ 9759966           │\n",
       "│     ┆         ┆ 21:06:50           ┆ 9738760, 97337…    ┆ 9770028, 97754…    ┆                   │\n",
       "│ 2   ┆ 150224  ┆ 2023-05-24         ┆ 9740087, 9741986,  ┆ 9778669, 9778736,  ┆ 9778661           │\n",
       "│     ┆         ┆ 07:31:26           ┆ 9740591, 97418…    ┆ 9778623, 90891…    ┆                   │\n",
       "│ 3   ┆ 160892  ┆ 2023-05-24         ┆ 9738557, 9738211,  ┆ 9778369, 9777856,  ┆ 9777856           │\n",
       "│     ┆         ┆ 07:30:33           ┆ 9736646, 97393…    ┆ 9778500, 97780…    ┆                   │\n",
       "│ 4   ┆ 1001055 ┆ 2023-05-23         ┆ 9738777, 9738663,  ┆ 9776715, 9776406,  ┆ 9776566           │\n",
       "│     ┆         ┆ 05:25:40           ┆ 9736693, 97386…    ┆ 9776566, 97760…    ┆                   │\n",
       "│ 5   ┆ 1001055 ┆ 2023-05-23         ┆ 9738777, 9738663,  ┆ 9775202, 9776855,  ┆ 9776553           │\n",
       "│     ┆         ┆ 05:31:54           ┆ 9736693, 97386…    ┆ 9776688, 97719…    ┆                   │\n",
       "└─────┴─────────┴────────────────────┴────────────────────┴────────────────────┴───────────────────┘"
      ]
     },
     "execution_count": 137,
     "metadata": {},
     "output_type": "execute_result"
    }
   ],
   "source": [
    "\n",
    "# Select only the columns that match MIND, i.e., user ID, timestamp, history, and impressions (inview + clicked)\n",
    "mind = df.select([\"user_id\", \"impression_time\", \"article_id_fixed\", \"article_ids_inview\", \"article_ids_clicked\"])\n",
    "\n",
    "# Add row index\n",
    "mind_indexed = mind.with_row_index(\"id\", offset=1)\n",
    "\n",
    "# Flatten lists as TSV does not support nested structures\n",
    "mind_flat = mind_indexed.with_columns(pl.col(\"article_id_fixed\").cast(pl.List(pl.Utf8)).list.join(\", \"))\n",
    "mind_flat = mind_flat.with_columns(pl.col(\"article_ids_inview\").cast(pl.List(pl.Utf8)).list.join(\", \"))\n",
    "mind_flat = mind_flat.with_columns(pl.col(\"article_ids_clicked\").cast(pl.List(pl.Utf8)).list.join(\", \"))\n",
    "\n",
    "mind_flat.head(5)\n"
   ]
  },
  {
   "cell_type": "code",
   "execution_count": 139,
   "metadata": {},
   "outputs": [
    {
     "name": "stdout",
     "output_type": "stream",
     "text": [
      "shape: (24_724, 5)\n",
      "┌───────┬─────────┬─────────────────────┬────────────────────────────┬───────────────────────┐\n",
      "│ id    ┆ user_id ┆ impression_time     ┆ article_id_fixed           ┆ article_ids_inview    │\n",
      "│ ---   ┆ ---     ┆ ---                 ┆ ---                        ┆ ---                   │\n",
      "│ u32   ┆ u32     ┆ datetime[μs]        ┆ str                        ┆ str                   │\n",
      "╞═══════╪═════════╪═════════════════════╪════════════════════════════╪═══════════════════════╡\n",
      "│ 1     ┆ 22779   ┆ 2023-05-21 21:06:50 ┆ 9738452, 9737521, 9738760, ┆ 9774516-0, 9771051-0, │\n",
      "│       ┆         ┆                     ┆ 97337…                     ┆ 9770028-0,…           │\n",
      "│ 2     ┆ 150224  ┆ 2023-05-24 07:31:26 ┆ 9740087, 9741986, 9740591, ┆ 9778669-0, 9778736-0, │\n",
      "│       ┆         ┆                     ┆ 97418…                     ┆ 9778623-0,…           │\n",
      "│ 3     ┆ 160892  ┆ 2023-05-24 07:30:33 ┆ 9738557, 9738211, 9736646, ┆ 9778369-0, 9777856-1, │\n",
      "│       ┆         ┆                     ┆ 97393…                     ┆ 9778500-0,…           │\n",
      "│ 4     ┆ 1001055 ┆ 2023-05-23 05:25:40 ┆ 9738777, 9738663, 9736693, ┆ 9776715-0, 9776406-0, │\n",
      "│       ┆         ┆                     ┆ 97386…                     ┆ 9776566-1,…           │\n",
      "│ 5     ┆ 1001055 ┆ 2023-05-23 05:31:54 ┆ 9738777, 9738663, 9736693, ┆ 9775202-0, 9776855-0, │\n",
      "│       ┆         ┆                     ┆ 97386…                     ┆ 9776688-0,…           │\n",
      "│ …     ┆ …       ┆ …                   ┆ …                          ┆ …                     │\n",
      "│ 24720 ┆ 2053999 ┆ 2023-05-22 08:30:52 ┆ 9737881, 9737657, 9737266, ┆ 9775562-1, 9775701-0, │\n",
      "│       ┆         ┆                     ┆ 97371…                     ┆ 9486486-0,…           │\n",
      "│ 24721 ┆ 2053999 ┆ 2023-05-22 08:31:34 ┆ 9737881, 9737657, 9737266, ┆ 9775347-0, 9678300-0, │\n",
      "│       ┆         ┆                     ┆ 97371…                     ┆ 9754160-0,…           │\n",
      "│ 24722 ┆ 2060487 ┆ 2023-05-22 08:51:33 ┆ 9738557, 9737521, 9738557, ┆ 9775699-1, 9775722-0, │\n",
      "│       ┆         ┆                     ┆ 97381…                     ┆ 9774541-0,…           │\n",
      "│ 24723 ┆ 2060487 ┆ 2023-05-22 08:53:36 ┆ 9738557, 9737521, 9738557, ┆ 9772221-0, 9758424-1, │\n",
      "│       ┆         ┆                     ┆ 97381…                     ┆ 9775699-0,…           │\n",
      "│ 24724 ┆ 2096611 ┆ 2023-05-18 10:56:49 ┆ 9740952, 9741218, 9741106, ┆ 9657528-0, 9769356-0, │\n",
      "│       ┆         ┆                     ┆ 97419…                     ┆ 9746428-0,…           │\n",
      "└───────┴─────────┴─────────────────────┴────────────────────────────┴───────────────────────┘\n"
     ]
    }
   ],
   "source": [
    "# Reformatted dataframe with the exact column count to match MIND\n",
    "mind_update = mind_flat.select(pl.exclude(\"article_ids_clicked\"))\n",
    "\n",
    "index = 0\n",
    "\n",
    "# Reformat impression column with \"-0\" for inview items and \"-1\" for clicked items\n",
    "for record in mind_flat.iter_rows(named=True):\n",
    "\n",
    "  # List of updated inview items with \"-0\" and \"-1\" suffixes\n",
    "  reformatted = \"\"\n",
    "\n",
    "  # Clicked inview items (each row can have multiple entries, hence the array)\n",
    "  clicked = record[\"article_ids_clicked\"].split(', ')\n",
    "\n",
    "  count = 0\n",
    "\n",
    "  # Update the inview values for each row by...\n",
    "  for entry in record[\"article_ids_inview\"].split(', '):\n",
    "\n",
    "    suffix = \"-0\"\n",
    "\n",
    "    # ...adding \"-1\" suffix to clicked inview view items or...\n",
    "    for interaction in clicked:\n",
    "      if (entry == interaction):\n",
    "        suffix = \"-1\"\n",
    "    \n",
    "    # ...the default \"-0\" suffix for items the user has not interacted with\n",
    "    entry = entry + suffix\n",
    "\n",
    "    # Add the reformatted values to the updated MIND dataframe\n",
    "    if (count != 0):\n",
    "      reformatted = reformatted + \", \" + entry\n",
    "    else:\n",
    "      reformatted = reformatted + entry\n",
    "      count = count + 1\n",
    "\n",
    "    mind_update[index, \"article_ids_inview\"] = reformatted\n",
    "\n",
    "  index = index + 1\n",
    "\n",
    "print(mind_update)"
   ]
  },
  {
   "cell_type": "code",
   "execution_count": 140,
   "metadata": {},
   "outputs": [
    {
     "name": "stdout",
     "output_type": "stream",
     "text": [
      "C:\\demo\\behavior.tsv\n"
     ]
    }
   ],
   "source": [
    "# Export to TSV file\n",
    "target = Path(root + \"/\" + filename)\n",
    "mind_update.write_csv(target, include_header = False, separator=\"\\t\")\n",
    "print(target)\n"
   ]
  }
 ],
 "metadata": {
  "kernelspec": {
   "display_name": "Python 3",
   "language": "python",
   "name": "python3"
  },
  "language_info": {
   "codemirror_mode": {
    "name": "ipython",
    "version": 3
   },
   "file_extension": ".py",
   "mimetype": "text/x-python",
   "name": "python",
   "nbconvert_exporter": "python",
   "pygments_lexer": "ipython3",
   "version": "3.11.9"
  }
 },
 "nbformat": 4,
 "nbformat_minor": 2
}
